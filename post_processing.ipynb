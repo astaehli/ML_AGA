{
 "cells": [
  {
   "cell_type": "code",
   "execution_count": 56,
   "metadata": {},
   "outputs": [
    {
     "name": "stdout",
     "output_type": "stream",
     "text": [
      "The autoreload extension is already loaded. To reload it, use:\n",
      "  %reload_ext autoreload\n"
     ]
    }
   ],
   "source": [
    "import numpy as np\n",
    "from skimage.io import imread\n",
    "import matplotlib.pyplot as plt\n",
    "from skimage import morphology\n",
    "from skimage import filters\n",
    "from PIL import Image\n",
    "import os\n",
    "import pandas as pd\n",
    "from sklearn.metrics import accuracy_score, f1_score, recall_score, precision_score\n",
    "\n",
    "%load_ext autoreload\n",
    "%autoreload 2"
   ]
  },
  {
   "cell_type": "code",
   "execution_count": 84,
   "metadata": {},
   "outputs": [],
   "source": [
    "disk = morphology.disk(3) "
   ]
  },
  {
   "cell_type": "code",
   "execution_count": 91,
   "metadata": {},
   "outputs": [],
   "source": [
    "images = os.listdir(\"/Users/arcivelekoglu/Desktop/EPFL/MA3/Machine learning/ML_AGA/data/validation/predictions_segformer\")"
   ]
  },
  {
   "cell_type": "code",
   "execution_count": 98,
   "metadata": {},
   "outputs": [],
   "source": [
    "labels = []\n",
    "preds_standard = []\n",
    "preds_eroded = []\n",
    "preds_dilated = []\n",
    "preds_eroded_dilated = []\n",
    "preds_dilated_eroded = []\n",
    "\n",
    "for im in images:\n",
    "    image = imread(f\"/Users/arcivelekoglu/Desktop/EPFL/MA3/Machine learning/ML_AGA/data/validation/predictions_segformer/{im}\")\n",
    "    image_binary = image > 0\n",
    "    gt = imread(f\"/Users/arcivelekoglu/Desktop/EPFL/MA3/Machine learning/ML_AGA/data/validation/groundtruth/{im}\")\n",
    "    gt = np.round(gt/255)\n",
    "\n",
    "    eroded = morphology.binary_erosion(image_binary, disk)\n",
    "    eroded_dilated = morphology.binary_dilation(eroded, disk)\n",
    "    dilated = morphology.binary_dilation(image_binary, disk)\n",
    "    dilated_eroded = morphology.binary_erosion(dilated, disk)\n",
    "\n",
    "    labels.extend(gt.flatten())\n",
    "    preds_standard.extend(image_binary.flatten())\n",
    "    preds_eroded.extend(eroded.flatten())\n",
    "    preds_dilated.extend(dilated.flatten())\n",
    "    preds_eroded_dilated.extend(eroded_dilated.flatten())\n",
    "    preds_dilated_eroded.extend(dilated_eroded.flatten())\n"
   ]
  },
  {
   "cell_type": "code",
   "execution_count": 100,
   "metadata": {},
   "outputs": [],
   "source": [
    "def evaluate_segmentation(pred, gt):\n",
    "    accuracy = accuracy_score(gt, pred)\n",
    "    f1 = f1_score(gt, pred, pos_label=1)\n",
    "    recall = recall_score(gt, pred, pos_label=1)\n",
    "    precision = precision_score(gt, pred, pos_label=1)\n",
    "    print(f\"Accuracy: {accuracy}\")\n",
    "    print(f\"F1: {f1}\")\n",
    "    print(f\"Recall: {recall}\")\n",
    "    print(f\"Precision: {precision}\")\n",
    "    # return accuracy, f1, recall, precision"
   ]
  },
  {
   "cell_type": "code",
   "execution_count": 101,
   "metadata": {},
   "outputs": [
    {
     "name": "stdout",
     "output_type": "stream",
     "text": [
      "Accuracy: 0.948439375\n",
      "F1: 0.8765916516078075\n",
      "Recall: 0.8642055602011005\n",
      "Precision: 0.8893379490580613\n"
     ]
    }
   ],
   "source": [
    "evaluate_segmentation(preds_standard, labels)"
   ]
  },
  {
   "cell_type": "code",
   "execution_count": 103,
   "metadata": {},
   "outputs": [
    {
     "name": "stdout",
     "output_type": "stream",
     "text": [
      "Accuracy: 0.9331909375\n",
      "F1: 0.821565480408334\n",
      "Recall: 0.7258464846497923\n",
      "Precision: 0.9463647061538106\n"
     ]
    }
   ],
   "source": [
    "evaluate_segmentation(preds_eroded, labels)"
   ]
  },
  {
   "cell_type": "code",
   "execution_count": 104,
   "metadata": {},
   "outputs": [
    {
     "name": "stdout",
     "output_type": "stream",
     "text": [
      "Accuracy: 0.934791875\n",
      "F1: 0.8585740970175757\n",
      "Recall: 0.9341070009099369\n",
      "Precision: 0.7943426869415269\n"
     ]
    }
   ],
   "source": [
    "evaluate_segmentation(preds_dilated, labels)"
   ]
  },
  {
   "cell_type": "code",
   "execution_count": 105,
   "metadata": {},
   "outputs": [
    {
     "name": "stdout",
     "output_type": "stream",
     "text": [
      "Accuracy: 0.9485509375\n",
      "F1: 0.8767330057434302\n",
      "Recall: 0.8634637477896793\n",
      "Precision: 0.8904164588225275\n"
     ]
    }
   ],
   "source": [
    "evaluate_segmentation(preds_eroded_dilated, labels)"
   ]
  },
  {
   "cell_type": "code",
   "execution_count": 106,
   "metadata": {},
   "outputs": [
    {
     "name": "stdout",
     "output_type": "stream",
     "text": [
      "Accuracy: 0.9484346875\n",
      "F1: 0.876624265113264\n",
      "Recall: 0.8645447587192454\n",
      "Precision: 0.8890461068091031\n"
     ]
    }
   ],
   "source": [
    "evaluate_segmentation(preds_dilated_eroded, labels)"
   ]
  },
  {
   "cell_type": "code",
   "execution_count": null,
   "metadata": {},
   "outputs": [],
   "source": []
  }
 ],
 "metadata": {
  "kernelspec": {
   "display_name": "ml3",
   "language": "python",
   "name": "python3"
  },
  "language_info": {
   "codemirror_mode": {
    "name": "ipython",
    "version": 3
   },
   "file_extension": ".py",
   "mimetype": "text/x-python",
   "name": "python",
   "nbconvert_exporter": "python",
   "pygments_lexer": "ipython3",
   "version": "3.12.5"
  }
 },
 "nbformat": 4,
 "nbformat_minor": 2
}
